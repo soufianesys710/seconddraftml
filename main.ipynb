{
 "cells": [
  {
   "cell_type": "code",
   "execution_count": 6,
   "id": "f023e319",
   "metadata": {},
   "outputs": [],
   "source": [
    "from sklearn.utils.validation import validate_data, check_array, check_is_fitted"
   ]
  },
  {
   "cell_type": "code",
   "execution_count": 4,
   "id": "28b75130",
   "metadata": {},
   "outputs": [
    {
     "name": "stdout",
     "output_type": "stream",
     "text": [
      "Testing GoodEstimator:\n",
      "StandardScalerMixin.fit()\n",
      "BaseEstimator.fit()\n",
      "\n",
      "Testing BadEstimator:\n",
      "BaseEstimator.fit()\n"
     ]
    },
    {
     "data": {
      "text/plain": [
       "<__main__.BadEstimator at 0x11ff8e870>"
      ]
     },
     "execution_count": 4,
     "metadata": {},
     "output_type": "execute_result"
    }
   ],
   "source": [
    "class BaseEstimator:\n",
    "    def fit(self):\n",
    "        print(\"BaseEstimator.fit()\")\n",
    "        return self\n",
    "    \n",
    "    def predict(self):\n",
    "        print(\"BaseEstimator.predict()\")\n",
    "        return \"base prediction\"\n",
    "\n",
    "class StandardScalerMixin:\n",
    "    def fit(self):\n",
    "        print(\"StandardScalerMixin.fit()\")\n",
    "        super().fit()  # This should call BaseEstimator.fit()\n",
    "        return self\n",
    "    \n",
    "    def transform(self):\n",
    "        print(\"StandardScalerMixin.transform()\")\n",
    "        return \"scaled features\"\n",
    "\n",
    "# Correct order: mixin first, base class last\n",
    "class GoodEstimator(StandardScalerMixin, BaseEstimator):\n",
    "    pass\n",
    "\n",
    "# Incorrect order: base class first, mixin last\n",
    "class BadEstimator(BaseEstimator, StandardScalerMixin):\n",
    "    pass\n",
    "\n",
    "# Test the correct order\n",
    "print(\"Testing GoodEstimator:\")\n",
    "good = GoodEstimator()\n",
    "good.fit()  # Output: StandardScalerMixin.fit() → BaseEstimator.fit()\n",
    "\n",
    "# Test the incorrect order\n",
    "print(\"\\nTesting BadEstimator:\")\n",
    "bad = BadEstimator()\n",
    "bad.fit()  # Output: BaseEstimator.fit() only (mixin's fit is not called)"
   ]
  },
  {
   "cell_type": "code",
   "execution_count": 1,
   "id": "073263b4",
   "metadata": {},
   "outputs": [
    {
     "ename": "TypeError",
     "evalue": "sklearn.ensemble._forest.RandomForestRegressor() argument after ** must be a mapping, not NoneType",
     "output_type": "error",
     "traceback": [
      "\u001b[31m---------------------------------------------------------------------------\u001b[39m",
      "\u001b[31mTypeError\u001b[39m                                 Traceback (most recent call last)",
      "\u001b[36mCell\u001b[39m\u001b[36m \u001b[39m\u001b[32mIn[1]\u001b[39m\u001b[32m, line 4\u001b[39m\n\u001b[32m      1\u001b[39m \u001b[38;5;28;01mfrom\u001b[39;00m\u001b[38;5;250m \u001b[39m\u001b[34;01mseconddraftml\u001b[39;00m\u001b[34;01m.\u001b[39;00m\u001b[34;01mregression\u001b[39;00m\u001b[38;5;250m \u001b[39m\u001b[38;5;28;01mimport\u001b[39;00m MetaRandomForestRegressor\n\u001b[32m      2\u001b[39m \u001b[38;5;28;01mfrom\u001b[39;00m\u001b[38;5;250m \u001b[39m\u001b[34;01msklearn\u001b[39;00m\u001b[34;01m.\u001b[39;00m\u001b[34;01mutils\u001b[39;00m\u001b[34;01m.\u001b[39;00m\u001b[34;01mestimator_checks\u001b[39;00m\u001b[38;5;250m \u001b[39m\u001b[38;5;28;01mimport\u001b[39;00m check_estimator\n\u001b[32m----> \u001b[39m\u001b[32m4\u001b[39m \u001b[43mcheck_estimator\u001b[49m\u001b[43m(\u001b[49m\u001b[43mMetaRandomForestRegressor\u001b[49m\u001b[43m(\u001b[49m\u001b[43m)\u001b[49m\u001b[43m)\u001b[49m\n",
      "\u001b[36mFile \u001b[39m\u001b[32m~/Desktop/perso/seconddraftml/.venv/lib/python3.12/site-packages/sklearn/utils/_param_validation.py:218\u001b[39m, in \u001b[36mvalidate_params.<locals>.decorator.<locals>.wrapper\u001b[39m\u001b[34m(*args, **kwargs)\u001b[39m\n\u001b[32m    212\u001b[39m \u001b[38;5;28;01mtry\u001b[39;00m:\n\u001b[32m    213\u001b[39m     \u001b[38;5;28;01mwith\u001b[39;00m config_context(\n\u001b[32m    214\u001b[39m         skip_parameter_validation=(\n\u001b[32m    215\u001b[39m             prefer_skip_nested_validation \u001b[38;5;129;01mor\u001b[39;00m global_skip_validation\n\u001b[32m    216\u001b[39m         )\n\u001b[32m    217\u001b[39m     ):\n\u001b[32m--> \u001b[39m\u001b[32m218\u001b[39m         \u001b[38;5;28;01mreturn\u001b[39;00m \u001b[43mfunc\u001b[49m\u001b[43m(\u001b[49m\u001b[43m*\u001b[49m\u001b[43margs\u001b[49m\u001b[43m,\u001b[49m\u001b[43m \u001b[49m\u001b[43m*\u001b[49m\u001b[43m*\u001b[49m\u001b[43mkwargs\u001b[49m\u001b[43m)\u001b[49m\n\u001b[32m    219\u001b[39m \u001b[38;5;28;01mexcept\u001b[39;00m InvalidParameterError \u001b[38;5;28;01mas\u001b[39;00m e:\n\u001b[32m    220\u001b[39m     \u001b[38;5;66;03m# When the function is just a wrapper around an estimator, we allow\u001b[39;00m\n\u001b[32m    221\u001b[39m     \u001b[38;5;66;03m# the function to delegate validation to the estimator, but we replace\u001b[39;00m\n\u001b[32m    222\u001b[39m     \u001b[38;5;66;03m# the name of the estimator by the name of the function in the error\u001b[39;00m\n\u001b[32m    223\u001b[39m     \u001b[38;5;66;03m# message to avoid confusion.\u001b[39;00m\n\u001b[32m    224\u001b[39m     msg = re.sub(\n\u001b[32m    225\u001b[39m         \u001b[33mr\u001b[39m\u001b[33m\"\u001b[39m\u001b[33mparameter of \u001b[39m\u001b[33m\\\u001b[39m\u001b[33mw+ must be\u001b[39m\u001b[33m\"\u001b[39m,\n\u001b[32m    226\u001b[39m         \u001b[33mf\u001b[39m\u001b[33m\"\u001b[39m\u001b[33mparameter of \u001b[39m\u001b[38;5;132;01m{\u001b[39;00mfunc.\u001b[34m__qualname__\u001b[39m\u001b[38;5;132;01m}\u001b[39;00m\u001b[33m must be\u001b[39m\u001b[33m\"\u001b[39m,\n\u001b[32m    227\u001b[39m         \u001b[38;5;28mstr\u001b[39m(e),\n\u001b[32m    228\u001b[39m     )\n",
      "\u001b[36mFile \u001b[39m\u001b[32m~/Desktop/perso/seconddraftml/.venv/lib/python3.12/site-packages/sklearn/utils/estimator_checks.py:863\u001b[39m, in \u001b[36mcheck_estimator\u001b[39m\u001b[34m(estimator, generate_only, legacy, expected_failed_checks, on_skip, on_fail, callback)\u001b[39m\n\u001b[32m    859\u001b[39m test_can_fail, reason = _should_be_skipped_or_marked(\n\u001b[32m    860\u001b[39m     estimator, check, expected_failed_checks\n\u001b[32m    861\u001b[39m )\n\u001b[32m    862\u001b[39m \u001b[38;5;28;01mtry\u001b[39;00m:\n\u001b[32m--> \u001b[39m\u001b[32m863\u001b[39m     \u001b[43mcheck\u001b[49m\u001b[43m(\u001b[49m\u001b[43mestimator\u001b[49m\u001b[43m)\u001b[49m\n\u001b[32m    864\u001b[39m \u001b[38;5;28;01mexcept\u001b[39;00m SkipTest \u001b[38;5;28;01mas\u001b[39;00m e:\n\u001b[32m    865\u001b[39m     \u001b[38;5;66;03m# We get here if the test raises SkipTest, which is expected in cases where\u001b[39;00m\n\u001b[32m    866\u001b[39m     \u001b[38;5;66;03m# the check cannot run for instance if a required dependency is not\u001b[39;00m\n\u001b[32m    867\u001b[39m     \u001b[38;5;66;03m# installed.\u001b[39;00m\n\u001b[32m    868\u001b[39m     check_result = {\n\u001b[32m    869\u001b[39m         \u001b[33m\"\u001b[39m\u001b[33mestimator\u001b[39m\u001b[33m\"\u001b[39m: estimator,\n\u001b[32m    870\u001b[39m         \u001b[33m\"\u001b[39m\u001b[33mcheck_name\u001b[39m\u001b[33m\"\u001b[39m: _check_name(check),\n\u001b[32m   (...)\u001b[39m\u001b[32m    874\u001b[39m         \u001b[33m\"\u001b[39m\u001b[33mexpected_to_fail_reason\u001b[39m\u001b[33m\"\u001b[39m: reason,\n\u001b[32m    875\u001b[39m     }\n",
      "\u001b[36mFile \u001b[39m\u001b[32m~/Desktop/perso/seconddraftml/.venv/lib/python3.12/site-packages/sklearn/utils/_testing.py:145\u001b[39m, in \u001b[36m_IgnoreWarnings.__call__.<locals>.wrapper\u001b[39m\u001b[34m(*args, **kwargs)\u001b[39m\n\u001b[32m    143\u001b[39m \u001b[38;5;28;01mwith\u001b[39;00m warnings.catch_warnings():\n\u001b[32m    144\u001b[39m     warnings.simplefilter(\u001b[33m\"\u001b[39m\u001b[33mignore\u001b[39m\u001b[33m\"\u001b[39m, \u001b[38;5;28mself\u001b[39m.category)\n\u001b[32m--> \u001b[39m\u001b[32m145\u001b[39m     \u001b[38;5;28;01mreturn\u001b[39;00m \u001b[43mfn\u001b[49m\u001b[43m(\u001b[49m\u001b[43m*\u001b[49m\u001b[43margs\u001b[49m\u001b[43m,\u001b[49m\u001b[43m \u001b[49m\u001b[43m*\u001b[49m\u001b[43m*\u001b[49m\u001b[43mkwargs\u001b[49m\u001b[43m)\u001b[49m\n",
      "\u001b[36mFile \u001b[39m\u001b[32m~/Desktop/perso/seconddraftml/.venv/lib/python3.12/site-packages/sklearn/utils/estimator_checks.py:2228\u001b[39m, in \u001b[36mcheck_fit_score_takes_y\u001b[39m\u001b[34m(name, estimator_orig)\u001b[39m\n\u001b[32m   2226\u001b[39m func = \u001b[38;5;28mgetattr\u001b[39m(estimator, func_name, \u001b[38;5;28;01mNone\u001b[39;00m)\n\u001b[32m   2227\u001b[39m \u001b[38;5;28;01mif\u001b[39;00m func \u001b[38;5;129;01mis\u001b[39;00m \u001b[38;5;129;01mnot\u001b[39;00m \u001b[38;5;28;01mNone\u001b[39;00m:\n\u001b[32m-> \u001b[39m\u001b[32m2228\u001b[39m     \u001b[43mfunc\u001b[49m\u001b[43m(\u001b[49m\u001b[43mX\u001b[49m\u001b[43m,\u001b[49m\u001b[43m \u001b[49m\u001b[43my\u001b[49m\u001b[43m)\u001b[49m\n\u001b[32m   2229\u001b[39m     args = [p.name \u001b[38;5;28;01mfor\u001b[39;00m p \u001b[38;5;129;01min\u001b[39;00m signature(func).parameters.values()]\n\u001b[32m   2230\u001b[39m     \u001b[38;5;28;01mif\u001b[39;00m args[\u001b[32m0\u001b[39m] == \u001b[33m\"\u001b[39m\u001b[33mself\u001b[39m\u001b[33m\"\u001b[39m:\n\u001b[32m   2231\u001b[39m         \u001b[38;5;66;03m# available_if makes methods into functions\u001b[39;00m\n\u001b[32m   2232\u001b[39m         \u001b[38;5;66;03m# with an explicit \"self\", so need to shift arguments\u001b[39;00m\n",
      "\u001b[36mFile \u001b[39m\u001b[32m~/Desktop/perso/seconddraftml/src/seconddraftml/regression.py:46\u001b[39m, in \u001b[36mMetaRandomForestRegressor.fit\u001b[39m\u001b[34m(self, X, y, **kwargs)\u001b[39m\n\u001b[32m     44\u001b[39m \u001b[38;5;28;01mdef\u001b[39;00m\u001b[38;5;250m \u001b[39m\u001b[34mfit\u001b[39m(\u001b[38;5;28mself\u001b[39m, X, y, **kwargs):\n\u001b[32m     45\u001b[39m     \u001b[38;5;28mself\u001b[39m.models_ = [\n\u001b[32m---> \u001b[39m\u001b[32m46\u001b[39m         RandomForestRegressor(n_estimators=n, max_depth=d, **\u001b[38;5;28mself\u001b[39m.kwargs)\n\u001b[32m     47\u001b[39m         \u001b[38;5;28;01mfor\u001b[39;00m n, d \u001b[38;5;129;01min\u001b[39;00m \u001b[38;5;28mzip\u001b[39m(\u001b[38;5;28mself\u001b[39m.n_estimators, \u001b[38;5;28mself\u001b[39m.max_depths)\n\u001b[32m     48\u001b[39m     ]\n\u001b[32m     49\u001b[39m     \u001b[38;5;28;01mfor\u001b[39;00m model \u001b[38;5;129;01min\u001b[39;00m \u001b[38;5;28mself\u001b[39m.models_:\n\u001b[32m     50\u001b[39m         model.fit(X, y)\n",
      "\u001b[31mTypeError\u001b[39m: sklearn.ensemble._forest.RandomForestRegressor() argument after ** must be a mapping, not NoneType"
     ]
    }
   ],
   "source": [
    "from seconddraftml.regression import MetaRandomForestRegressor\n",
    "from sklearn.utils.estimator_checks import check_estimator\n",
    "\n",
    "check_estimator(MetaRandomForestRegressor())"
   ]
  },
  {
   "cell_type": "code",
   "execution_count": null,
   "id": "ba6ce35d",
   "metadata": {},
   "outputs": [],
   "source": []
  }
 ],
 "metadata": {
  "kernelspec": {
   "display_name": "uv-test",
   "language": "python",
   "name": "python3"
  },
  "language_info": {
   "codemirror_mode": {
    "name": "ipython",
    "version": 3
   },
   "file_extension": ".py",
   "mimetype": "text/x-python",
   "name": "python",
   "nbconvert_exporter": "python",
   "pygments_lexer": "ipython3",
   "version": "3.12.11"
  }
 },
 "nbformat": 4,
 "nbformat_minor": 5
}
